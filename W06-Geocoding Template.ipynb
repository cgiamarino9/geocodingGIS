{
 "cells": [
  {
   "cell_type": "markdown",
   "metadata": {
    "toc": true
   },
   "source": [
    "<h1>Table of Contents<span class=\"tocSkip\"></span></h1>\n",
    "<div class=\"toc\"><ul class=\"toc-item\"><li><span><a href=\"#Take-notice!\" data-toc-modified-id=\"Take-notice!-1\"><span class=\"toc-item-num\">1&nbsp;&nbsp;</span>Take notice!</a></span></li><li><span><a href=\"#Geocoging-Template\" data-toc-modified-id=\"Geocoging-Template-2\"><span class=\"toc-item-num\">2&nbsp;&nbsp;</span>Geocoging Template</a></span><ul class=\"toc-item\"><li><span><a href=\"#Import-libraries\" data-toc-modified-id=\"Import-libraries-2.1\"><span class=\"toc-item-num\">2.1&nbsp;&nbsp;</span>Import libraries</a></span></li><li><span><a href=\"#Data-exploration-and-cleanup\" data-toc-modified-id=\"Data-exploration-and-cleanup-2.2\"><span class=\"toc-item-num\">2.2&nbsp;&nbsp;</span>Data exploration and cleanup</a></span></li><li><span><a href=\"#Trim-the-data\" data-toc-modified-id=\"Trim-the-data-2.3\"><span class=\"toc-item-num\">2.3&nbsp;&nbsp;</span>Trim the data</a></span></li><li><span><a href=\"#Add-the-lat/lon-columns\" data-toc-modified-id=\"Add-the-lat/lon-columns-2.4\"><span class=\"toc-item-num\">2.4&nbsp;&nbsp;</span>Add the lat/lon columns</a></span></li><li><span><a href=\"#Let's-just-use-20-random-rows\" data-toc-modified-id=\"Let's-just-use-20-random-rows-2.5\"><span class=\"toc-item-num\">2.5&nbsp;&nbsp;</span>Let's just use 20 random rows</a></span></li><li><span><a href=\"#Loop-and-geocode\" data-toc-modified-id=\"Loop-and-geocode-2.6\"><span class=\"toc-item-num\">2.6&nbsp;&nbsp;</span>Loop and geocode</a></span></li><li><span><a href=\"#Convert-to-geodataframe\" data-toc-modified-id=\"Convert-to-geodataframe-2.7\"><span class=\"toc-item-num\">2.7&nbsp;&nbsp;</span>Convert to geodataframe</a></span></li><li><span><a href=\"#Add-base-layer-capability\" data-toc-modified-id=\"Add-base-layer-capability-2.8\"><span class=\"toc-item-num\">2.8&nbsp;&nbsp;</span>Add base layer capability</a></span></li><li><span><a href=\"#Map-it!\" data-toc-modified-id=\"Map-it!-2.9\"><span class=\"toc-item-num\">2.9&nbsp;&nbsp;</span>Map it!</a></span></li></ul></li></ul></div>"
   ]
  },
  {
   "cell_type": "markdown",
   "metadata": {},
   "source": [
    "<div class=\"alert alert-danger\">\n",
    "\n",
    "<h1>Take notice!</h1>\n",
    "<ul>\n",
    "    <li>Make sure you are working with a copy and not the original notebook file</li>\n",
    "    <li>This class will be recorded</li>\n",
    "</ul>\n",
    "    \n",
    "</div>"
   ]
  },
  {
   "cell_type": "markdown",
   "metadata": {
    "slideshow": {
     "slide_type": "slide"
    }
   },
   "source": [
    "# Geocoging Template\n",
    "\n",
    "*Special thanks to **Jayne** for providing the data and workflow for this template!*\n",
    "\n",
    "<img src=\"images/geocode.png\">"
   ]
  },
  {
   "cell_type": "markdown",
   "metadata": {
    "slideshow": {
     "slide_type": "slide"
    }
   },
   "source": [
    "Your data may have addresses with no other geographic identifyers (such as FIPS codes or latitude/longitude coordinates). In such cases, it is necessary to **geocode** your table, and convert the addresses to geographic coordinates.\n",
    "\n",
    "This template is designed to:\n",
    "* take in a table that has a column with addresses\n",
    "* clean the table so that only relevant columns are left\n",
    "* loop through every row of the table and geocode them\n",
    "* convert the geocoded table into a geodataframe\n",
    "* map it!"
   ]
  },
  {
   "cell_type": "markdown",
   "metadata": {
    "slideshow": {
     "slide_type": "slide"
    }
   },
   "source": [
    "## Import libraries"
   ]
  },
  {
   "cell_type": "code",
   "execution_count": null,
   "metadata": {},
   "outputs": [],
   "source": [
    "# to download osm dataimport osmnx as ox\n",
    "import osmnx as ox\n",
    "\n",
    "# to manipulate and visualize spatial dataimport geopandas as gpd\n",
    "import geopandas as gpd\n",
    "\n",
    "# to provide basemaps import contextily as ctx\n",
    "import contextily as ctx\n",
    "\n",
    "# to plot things with plotlyimport plotly.express as px\n",
    "import plotly.express as px\n",
    "\n",
    "# we import this so we can process this csv file\n",
    "import pandas as pd\n",
    "\n",
    "projects = pd.read_csv('LAProjects.csv')"
   ]
  },
  {
   "cell_type": "markdown",
   "metadata": {
    "slideshow": {
     "slide_type": "slide"
    }
   },
   "source": [
    "## Data exploration and cleanup"
   ]
  },
  {
   "cell_type": "code",
   "execution_count": null,
   "metadata": {
    "scrolled": true,
    "slideshow": {
     "slide_type": "fragment"
    }
   },
   "outputs": [],
   "source": [
    "projects.head()"
   ]
  },
  {
   "cell_type": "code",
   "execution_count": null,
   "metadata": {
    "scrolled": true,
    "slideshow": {
     "slide_type": "slide"
    }
   },
   "outputs": [],
   "source": [
    "# filtering it for only LA based projects\n",
    "la_projects = projects.loc[projects['Project City'] == 'Los Angeles'].copy()\n",
    "la_projects.head()"
   ]
  },
  {
   "cell_type": "markdown",
   "metadata": {
    "slideshow": {
     "slide_type": "slide"
    }
   },
   "source": [
    "## Trim the data"
   ]
  },
  {
   "cell_type": "code",
   "execution_count": null,
   "metadata": {},
   "outputs": [],
   "source": [
    "# clean the columns\n",
    "la_projects_trimmed = la_projects[['Type of tax credit funding',\n",
    " 'Project Name',\n",
    " 'Project Address',\n",
    " 'Project City',\n",
    " 'Project Zip Code',\n",
    " 'Project County',\n",
    " 'Census Tract',\n",
    " 'Housing Type',\n",
    " 'Total Units',\n",
    " 'Low Income Units',\n",
    " 'Annual Federal Award',\n",
    " 'Total State Award',\n",
    "]].copy()"
   ]
  },
  {
   "cell_type": "code",
   "execution_count": null,
   "metadata": {
    "scrolled": true,
    "slideshow": {
     "slide_type": "slide"
    }
   },
   "outputs": [],
   "source": [
    "# show a preview of the first 5 rows.\n",
    "la_projects_trimmed.head()"
   ]
  },
  {
   "cell_type": "markdown",
   "metadata": {
    "slideshow": {
     "slide_type": "slide"
    }
   },
   "source": [
    "## Add the lat/lon columns\n",
    "\n",
    "We add empty lat/lon columns to our dataframe as placeholders for the geocoding."
   ]
  },
  {
   "cell_type": "code",
   "execution_count": null,
   "metadata": {
    "slideshow": {
     "slide_type": "fragment"
    }
   },
   "outputs": [],
   "source": [
    "la_projects_trimmed['lat'] = pd.Series(dtype='float')\n",
    "la_projects_trimmed['lon'] = pd.Series(dtype='float')"
   ]
  },
  {
   "cell_type": "code",
   "execution_count": null,
   "metadata": {
    "scrolled": false,
    "slideshow": {
     "slide_type": "slide"
    }
   },
   "outputs": [],
   "source": [
    "la_projects_trimmed.head()"
   ]
  },
  {
   "cell_type": "markdown",
   "metadata": {
    "slideshow": {
     "slide_type": "slide"
    }
   },
   "source": [
    "## Let's just use 20 random rows\n",
    "\n",
    "This sample data is pretty big, so let's just geocode 20 random rows."
   ]
  },
  {
   "cell_type": "code",
   "execution_count": null,
   "metadata": {
    "slideshow": {
     "slide_type": "fragment"
    }
   },
   "outputs": [],
   "source": [
    "la_projects_trimmed=la_projects_trimmed.sample(20)\n",
    "la_projects_trimmed"
   ]
  },
  {
   "cell_type": "markdown",
   "metadata": {
    "slideshow": {
     "slide_type": "slide"
    }
   },
   "source": [
    "## Loop and geocode\n",
    "\n",
    "Here, we begin the loop on our cleaned up and trimmed down dataframe. Note that we use the `try` `except` to [catch errors and exceptions](https://docs.python.org/3/tutorial/errors.html) in our geocoding process."
   ]
  },
  {
   "cell_type": "code",
   "execution_count": null,
   "metadata": {
    "scrolled": true,
    "slideshow": {
     "slide_type": "slide"
    }
   },
   "outputs": [],
   "source": [
    "# loop through list and add to dataframe with lat/lon's\n",
    "for index, row in la_projects_trimmed.iterrows():\n",
    "\n",
    "    # identify the address column\n",
    "    address = row['Project Address']\n",
    "    \n",
    "    try:\n",
    "        \n",
    "        # geocode it\n",
    "        geocoded_address = ox.geocoder.geocode(address)\n",
    "\n",
    "        # add it to the dataframe\n",
    "        la_projects_trimmed.at[index,'lat']=geocoded_address[0]\n",
    "        la_projects_trimmed.at[index,'lon']=geocoded_address[1]\n",
    "\n",
    "        # print the output\n",
    "        print(address + ' geocoded to ' + str(geocoded_address[0])+' '+str(geocoded_address[1]))        \n",
    "\n",
    "    except:\n",
    "        print('Could not geocode '+ address)\n",
    "        pass\n"
   ]
  },
  {
   "cell_type": "code",
   "execution_count": null,
   "metadata": {
    "scrolled": false,
    "slideshow": {
     "slide_type": "slide"
    }
   },
   "outputs": [],
   "source": [
    "la_projects_trimmed"
   ]
  },
  {
   "cell_type": "markdown",
   "metadata": {
    "slideshow": {
     "slide_type": "slide"
    }
   },
   "source": [
    "## Convert to geodataframe\n",
    "\n",
    "The resulting table is a pandas dataframe. Let's convert it to a geodataframe. Since the addresses were geocoded to their latitude and longitude coordinates, we specify here to use the WGS84 geographic coordinate system using `EPSG:4326`."
   ]
  },
  {
   "cell_type": "code",
   "execution_count": null,
   "metadata": {
    "slideshow": {
     "slide_type": "fragment"
    }
   },
   "outputs": [],
   "source": [
    "# convert pandas dataframe to geodataframe\n",
    "la_projects_trimmed = gpd.GeoDataFrame(la_projects_trimmed, \n",
    "                                     crs=\"EPSG:4326\",\n",
    "                                     geometry=gpd.points_from_xy(la_projects_trimmed.lon, la_projects_trimmed.lat))\n"
   ]
  },
  {
   "cell_type": "markdown",
   "metadata": {
    "slideshow": {
     "slide_type": "slide"
    }
   },
   "source": [
    "## Add base layer capability\n",
    "Next, we reproject it to a web mercator projection to allow contextily tiles to work as a base layer."
   ]
  },
  {
   "cell_type": "code",
   "execution_count": null,
   "metadata": {
    "slideshow": {
     "slide_type": "fragment"
    }
   },
   "outputs": [],
   "source": [
    "# reproject to web mercator\n",
    "la_projects_trimmed = la_projects_trimmed.to_crs(epsg=3857)"
   ]
  },
  {
   "cell_type": "markdown",
   "metadata": {
    "slideshow": {
     "slide_type": "slide"
    }
   },
   "source": [
    "## Map it!"
   ]
  },
  {
   "cell_type": "code",
   "execution_count": null,
   "metadata": {},
   "outputs": [],
   "source": [
    "ax = la_projects_trimmed.plot(figsize=(12,12),\n",
    "                              column='Type of tax credit funding',\n",
    "                              legend=True,\n",
    "                              cmap='Set1',\n",
    "                             markersize=60)\n",
    "\n",
    "ax.axis('off')\n",
    "ctx.add_basemap(ax,source=ctx.providers.CartoDB.Positron)"
   ]
  }
 ],
 "metadata": {
  "celltoolbar": "Slideshow",
  "kernelspec": {
   "display_name": "Python 3",
   "language": "python",
   "name": "python3"
  },
  "language_info": {
   "codemirror_mode": {
    "name": "ipython",
    "version": 3
   },
   "file_extension": ".py",
   "mimetype": "text/x-python",
   "name": "python",
   "nbconvert_exporter": "python",
   "pygments_lexer": "ipython3",
   "version": "3.8.5"
  },
  "toc": {
   "base_numbering": 1,
   "nav_menu": {},
   "number_sections": true,
   "sideBar": true,
   "skip_h1_title": false,
   "title_cell": "Table of Contents",
   "title_sidebar": "Contents",
   "toc_cell": true,
   "toc_position": {},
   "toc_section_display": true,
   "toc_window_display": false
  }
 },
 "nbformat": 4,
 "nbformat_minor": 4
}
