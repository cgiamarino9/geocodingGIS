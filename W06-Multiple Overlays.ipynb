{
 "cells": [
  {
   "cell_type": "markdown",
   "metadata": {
    "toc": true
   },
   "source": [
    "<h1>Table of Contents<span class=\"tocSkip\"></span></h1>\n",
    "<div class=\"toc\"><ul class=\"toc-item\"><li><span><a href=\"#Take-notice!\" data-toc-modified-id=\"Take-notice!-1\"><span class=\"toc-item-num\">1&nbsp;&nbsp;</span>Take notice!</a></span></li><li><span><a href=\"#Multiple-overlays\" data-toc-modified-id=\"Multiple-overlays-2\"><span class=\"toc-item-num\">2&nbsp;&nbsp;</span>Multiple overlays</a></span><ul class=\"toc-item\"><li><span><a href=\"#LA-Times-Neighborhoods\" data-toc-modified-id=\"LA-Times-Neighborhoods-2.1\"><span class=\"toc-item-num\">2.1&nbsp;&nbsp;</span>LA Times Neighborhoods</a></span></li><li><span><a href=\"#Get-Crime-Data-from-LA-Open-Data-Portal\" data-toc-modified-id=\"Get-Crime-Data-from-LA-Open-Data-Portal-2.2\"><span class=\"toc-item-num\">2.2&nbsp;&nbsp;</span>Get Crime Data from LA Open Data Portal</a></span></li><li><span><a href=\"#Convert-data-to-a-geodataframe\" data-toc-modified-id=\"Convert-data-to-a-geodataframe-2.3\"><span class=\"toc-item-num\">2.3&nbsp;&nbsp;</span>Convert data to a geodataframe</a></span></li><li><span><a href=\"#Create-a-two-layer-map\" data-toc-modified-id=\"Create-a-two-layer-map-2.4\"><span class=\"toc-item-num\">2.4&nbsp;&nbsp;</span>Create a two layer map</a></span></li><li><span><a href=\"#Zoom-to-the-points,-not-the-neighborhoods\" data-toc-modified-id=\"Zoom-to-the-points,-not-the-neighborhoods-2.5\"><span class=\"toc-item-num\">2.5&nbsp;&nbsp;</span>Zoom to the points, not the neighborhoods</a></span></li><li><span><a href=\"#Joining-crime-to-neighborhoods\" data-toc-modified-id=\"Joining-crime-to-neighborhoods-2.6\"><span class=\"toc-item-num\">2.6&nbsp;&nbsp;</span>Joining crime to neighborhoods</a></span></li><li><span><a href=\"#The-spatial-join\" data-toc-modified-id=\"The-spatial-join-2.7\"><span class=\"toc-item-num\">2.7&nbsp;&nbsp;</span>The spatial join</a></span></li><li><span><a href=\"#Join-the-value-counts-back-to-the-neighborhoods\" data-toc-modified-id=\"Join-the-value-counts-back-to-the-neighborhoods-2.8\"><span class=\"toc-item-num\">2.8&nbsp;&nbsp;</span>Join the value counts back to the neighborhoods</a></span></li><li><span><a href=\"#Map-neighborhoods-by-crime-count\" data-toc-modified-id=\"Map-neighborhoods-by-crime-count-2.9\"><span class=\"toc-item-num\">2.9&nbsp;&nbsp;</span>Map neighborhoods by crime count</a></span></li><li><span><a href=\"#Cleanup:-Adding-basemaps,-titles...\" data-toc-modified-id=\"Cleanup:-Adding-basemaps,-titles...-2.10\"><span class=\"toc-item-num\">2.10&nbsp;&nbsp;</span>Cleanup: Adding basemaps, titles...</a></span></li><li><span><a href=\"#Make-an-interactive-map\" data-toc-modified-id=\"Make-an-interactive-map-2.11\"><span class=\"toc-item-num\">2.11&nbsp;&nbsp;</span>Make an interactive map</a></span></li><li><span><a href=\"#Get-the-center-lat/lon\" data-toc-modified-id=\"Get-the-center-lat/lon-2.12\"><span class=\"toc-item-num\">2.12&nbsp;&nbsp;</span>Get the center lat/lon</a></span></li><li><span><a href=\"#Saving-as-HTML\" data-toc-modified-id=\"Saving-as-HTML-2.13\"><span class=\"toc-item-num\">2.13&nbsp;&nbsp;</span>Saving as HTML</a></span></li></ul></li></ul></div>"
   ]
  },
  {
   "cell_type": "markdown",
   "metadata": {},
   "source": [
    "<div class=\"alert alert-danger\">\n",
    "\n",
    "<h1>Take notice!</h1>\n",
    "<ul>\n",
    "    <li>Make sure you are working with a copy and not the original notebook file</li>\n",
    "    <li>This class will be recorded</li>\n",
    "</ul>\n",
    "    \n",
    "</div>"
   ]
  },
  {
   "cell_type": "markdown",
   "metadata": {
    "slideshow": {
     "slide_type": "slide"
    }
   },
   "source": [
    "# Multiple overlays\n",
    "\n",
    "<img src=\"images/mult.png\">\n",
    "\n",
    "We have focused on data exploration on single dataframes, geared to create map visualizations for individual layers. This lab goes over *overlays*, creating a single map that has multiple layers of data.\n",
    "\n",
    "Research inquiry: Which neighborhoods in Los Angeles have the highest instances of arrests?"
   ]
  },
  {
   "cell_type": "markdown",
   "metadata": {
    "slideshow": {
     "slide_type": "slide"
    }
   },
   "source": [
    "## LA Times Neighborhoods\n",
    "\n",
    "* [About mapping LA neighborhoods](http://maps.latimes.com/neighborhoods/)\n",
    "* [Download the data](http://boundaries.latimes.com/sets/)"
   ]
  },
  {
   "cell_type": "code",
   "execution_count": null,
   "metadata": {
    "slideshow": {
     "slide_type": "fragment"
    }
   },
   "outputs": [],
   "source": [
    "import geopandas as gpd"
   ]
  },
  {
   "cell_type": "code",
   "execution_count": null,
   "metadata": {
    "slideshow": {
     "slide_type": "fragment"
    }
   },
   "outputs": [],
   "source": [
    "# get neighborhood boundaries from the LA Times\n",
    "neighborhoods = gpd.read_file('http://s3-us-west-2.amazonaws.com/boundaries.latimes.com/archive/1.0/boundary-set/la-county-neighborhoods-v5.geojson')"
   ]
  },
  {
   "cell_type": "code",
   "execution_count": null,
   "metadata": {
    "slideshow": {
     "slide_type": "slide"
    }
   },
   "outputs": [],
   "source": [
    "# trim the data to the bare minimum columns\n",
    "neighborhoods = neighborhoods[['name','geometry']]\n",
    "neighborhoods.head()"
   ]
  },
  {
   "cell_type": "code",
   "execution_count": null,
   "metadata": {
    "slideshow": {
     "slide_type": "slide"
    }
   },
   "outputs": [],
   "source": [
    "# plot it!\n",
    "ax=neighborhoods.plot(figsize=(12,12),color='gainsboro', edgecolor='white')"
   ]
  },
  {
   "cell_type": "markdown",
   "metadata": {
    "slideshow": {
     "slide_type": "slide"
    }
   },
   "source": [
    "## Get Crime Data from LA Open Data Portal\n",
    "Next, we acquire the data using the socrata API. Use the socrata documentation to grab the code syntax for our crime data.\n",
    "- https://dev.socrata.com/foundry/data.lacity.org/amvf-fr72"
   ]
  },
  {
   "cell_type": "code",
   "execution_count": null,
   "metadata": {
    "slideshow": {
     "slide_type": "slide"
    }
   },
   "outputs": [],
   "source": [
    "import pandas as pd\n",
    "import plotly.express as px\n",
    "from sodapy import Socrata"
   ]
  },
  {
   "cell_type": "code",
   "execution_count": null,
   "metadata": {
    "slideshow": {
     "slide_type": "slide"
    }
   },
   "outputs": [],
   "source": [
    "# connect to the data portal\n",
    "client = Socrata(\"data.lacity.org\", None)\n",
    "\n",
    "# First 2000 results, returned as JSON from API / converted to Python list of\n",
    "# dictionaries by sodapy.\n",
    "results = client.get(\"amvf-fr72\", \n",
    "                     limit=5000,\n",
    "                     where = \"arst_date between '2020-09-01T00:00:00' and '2020-09-30T00:00:00'\",\n",
    "                     order='arst_date desc')\n",
    "\n",
    "# Convert to pandas DataFrame\n",
    "df = pd.DataFrame.from_records(results)\n",
    "\n",
    "# print it with .sample, which gives you random rows\n",
    "df.head()"
   ]
  },
  {
   "cell_type": "code",
   "execution_count": null,
   "metadata": {
    "slideshow": {
     "slide_type": "slide"
    }
   },
   "outputs": [],
   "source": [
    "df.shape"
   ]
  },
  {
   "cell_type": "code",
   "execution_count": null,
   "metadata": {
    "slideshow": {
     "slide_type": "fragment"
    }
   },
   "outputs": [],
   "source": [
    "# columns\n",
    "list(df)"
   ]
  },
  {
   "cell_type": "markdown",
   "metadata": {
    "slideshow": {
     "slide_type": "slide"
    }
   },
   "source": [
    "## Convert data to a geodataframe\n",
    "\n",
    "Geopandas allows us to convert different types of data into a spatial format.\n",
    "- https://geopandas.org/gallery/create_geopandas_from_pandas.html"
   ]
  },
  {
   "cell_type": "code",
   "execution_count": null,
   "metadata": {
    "slideshow": {
     "slide_type": "fragment"
    }
   },
   "outputs": [],
   "source": [
    "# convert pandas dataframe to geodataframe\n",
    "crime = gpd.GeoDataFrame(df, geometry=gpd.points_from_xy(df.lon, df.lat))"
   ]
  },
  {
   "cell_type": "code",
   "execution_count": null,
   "metadata": {
    "slideshow": {
     "slide_type": "slide"
    }
   },
   "outputs": [],
   "source": [
    "# map it!\n",
    "crime.plot(figsize=(12,12),color='red')"
   ]
  },
  {
   "cell_type": "markdown",
   "metadata": {
    "slideshow": {
     "slide_type": "slide"
    }
   },
   "source": [
    "## Create a two layer map\n",
    "\n",
    "- https://geopandas.org/mapping.html"
   ]
  },
  {
   "cell_type": "code",
   "execution_count": null,
   "metadata": {
    "slideshow": {
     "slide_type": "slide"
    }
   },
   "outputs": [],
   "source": [
    "# first define which layers will be your \"base\"\n",
    "base = neighborhoods.plot(figsize=(12,10),color='gainsboro', edgecolor='white')\n",
    "\n",
    "# define the layer that will go on top, and add the base layer to the `ax` argument\n",
    "ax = crime.plot(ax=base, color='red', markersize=5)"
   ]
  },
  {
   "cell_type": "markdown",
   "metadata": {
    "slideshow": {
     "slide_type": "slide"
    }
   },
   "source": [
    "## Zoom to the points, not the neighborhoods\n",
    "\n",
    "By default, the map has zoomed out to fit both layers. Sometimes, we may want to zoom to the extent of a smaller layer, in this case, the crime data."
   ]
  },
  {
   "cell_type": "code",
   "execution_count": null,
   "metadata": {},
   "outputs": [],
   "source": [
    "# get the bounding box coordinates for the crime data\n",
    "crime.geometry.total_bounds"
   ]
  },
  {
   "cell_type": "code",
   "execution_count": null,
   "metadata": {},
   "outputs": [],
   "source": [
    "# shortcut to put them into their own variables\n",
    "minx, miny, maxx, maxy = crime.geometry.total_bounds\n",
    "print(minx)\n",
    "print(maxx)\n",
    "print(miny)\n",
    "print(maxy)\n"
   ]
  },
  {
   "cell_type": "code",
   "execution_count": null,
   "metadata": {
    "slideshow": {
     "slide_type": "slide"
    }
   },
   "outputs": [],
   "source": [
    "# use the bounding box coordinates to set the x and y limits\n",
    "base = neighborhoods.plot(figsize=(12,12),color='gainsboro', edgecolor='white')\n",
    "ax = crime.plot(ax=base, marker='o', color='red', markersize=5)\n",
    "ax.set_xlim(minx - .1, maxx + .1) # added/substracted value is to give some margin around total bounds\n",
    "ax.set_ylim(miny - .1, maxy + .1)\n",
    "ax"
   ]
  },
  {
   "cell_type": "markdown",
   "metadata": {
    "slideshow": {
     "slide_type": "slide"
    }
   },
   "source": [
    "## Joining crime to neighborhoods\n",
    "\n",
    "Now that we have successfuly overlaid our two layers on a single map, we want to get some correlations between them. We do so first by conducting a spatial join that will allow us to summarize the number of crime instances per neighborhood.\n",
    "\n",
    "First things first, whenever we do spatial analysis between two layers, make sure they are in the same projection."
   ]
  },
  {
   "cell_type": "code",
   "execution_count": null,
   "metadata": {
    "slideshow": {
     "slide_type": "fragment"
    }
   },
   "outputs": [],
   "source": [
    "# set the coordinate system to WGS84 for our crime data\n",
    "crime.set_crs(epsg=4326, inplace=True)\n",
    "crime.crs"
   ]
  },
  {
   "cell_type": "code",
   "execution_count": null,
   "metadata": {
    "slideshow": {
     "slide_type": "slide"
    }
   },
   "outputs": [],
   "source": [
    "# check the coordinate system of our neighborhoods\n",
    "neighborhoods.crs"
   ]
  },
  {
   "cell_type": "markdown",
   "metadata": {
    "slideshow": {
     "slide_type": "slide"
    }
   },
   "source": [
    "## The spatial join\n",
    "\n",
    "* https://geopandas.org/mergingdata.html?highlight=spatial%20join\n",
    "\n",
    "In a Spatial Join, two geometry objects are merged based on their spatial relationship to one another.\n",
    "\n",
    "The how argument specifies the type of join that will occur and which geometry is retained in the resultant geodataframe. It accepts the following options:\n",
    "\n",
    "`left`: use the index from the first (or left_df) geodataframe that you provide to sjoin; retain only the left_df geometry column\n",
    "\n",
    "`right`: use index from second (or right_df); retain only the right_df geometry column\n",
    "\n",
    "`inner`: use intersection of index values from both geodataframes; retain only the left_df geometry column\n",
    "\n"
   ]
  },
  {
   "cell_type": "code",
   "execution_count": null,
   "metadata": {
    "slideshow": {
     "slide_type": "slide"
    }
   },
   "outputs": [],
   "source": [
    "# Do the spatial join\n",
    "join = gpd.sjoin(neighborhoods,\n",
    "                 crime,\n",
    "                 how='right')"
   ]
  },
  {
   "cell_type": "code",
   "execution_count": null,
   "metadata": {
    "slideshow": {
     "slide_type": "fragment"
    }
   },
   "outputs": [],
   "source": [
    "# Now every instance of crime is given a neighborhood it falls inside of\n",
    "join.head()"
   ]
  },
  {
   "cell_type": "markdown",
   "metadata": {
    "slideshow": {
     "slide_type": "slide"
    }
   },
   "source": [
    "Next, we create a dataframe that counts crime by neighborhood:"
   ]
  },
  {
   "cell_type": "code",
   "execution_count": null,
   "metadata": {
    "slideshow": {
     "slide_type": "fragment"
    }
   },
   "outputs": [],
   "source": [
    "crime_by_neighborhoods = join.name.value_counts().rename_axis('name').reset_index(name='crime_count')"
   ]
  },
  {
   "cell_type": "code",
   "execution_count": null,
   "metadata": {
    "scrolled": true,
    "slideshow": {
     "slide_type": "fragment"
    }
   },
   "outputs": [],
   "source": [
    "crime_by_neighborhoods.head()"
   ]
  },
  {
   "cell_type": "code",
   "execution_count": null,
   "metadata": {
    "slideshow": {
     "slide_type": "slide"
    }
   },
   "outputs": [],
   "source": [
    "# make a bar chart\n",
    "crime_by_neighborhoods[:50].plot.bar(figsize=(20,8),x='name',y='crime_count')"
   ]
  },
  {
   "cell_type": "markdown",
   "metadata": {
    "slideshow": {
     "slide_type": "slide"
    }
   },
   "source": [
    "## Join the value counts back to the neighborhoods\n",
    "\n",
    "The bar chart is nice, but what we also want is a choropleth map to accompany it. To do so, we merge the counts back to the neighborhoods."
   ]
  },
  {
   "cell_type": "code",
   "execution_count": null,
   "metadata": {
    "slideshow": {
     "slide_type": "fragment"
    }
   },
   "outputs": [],
   "source": [
    "# join the summary table back to the neighborhood geodatabase\n",
    "neighborhoods=neighborhoods.merge(crime_by_neighborhoods,on='name')"
   ]
  },
  {
   "cell_type": "code",
   "execution_count": null,
   "metadata": {
    "slideshow": {
     "slide_type": "fragment"
    }
   },
   "outputs": [],
   "source": [
    "# our neighborhood table now has a count column\n",
    "neighborhoods.head()"
   ]
  },
  {
   "cell_type": "markdown",
   "metadata": {
    "slideshow": {
     "slide_type": "slide"
    }
   },
   "source": [
    "## Map neighborhoods by crime count"
   ]
  },
  {
   "cell_type": "code",
   "execution_count": null,
   "metadata": {},
   "outputs": [],
   "source": [
    "# plot it!\n",
    "neighborhoods.plot(figsize=(15,15),column='crime_count',legend=True,cmap='RdYlGn_r')"
   ]
  },
  {
   "cell_type": "markdown",
   "metadata": {
    "slideshow": {
     "slide_type": "slide"
    }
   },
   "source": [
    "## Cleanup: Adding basemaps, titles..."
   ]
  },
  {
   "cell_type": "code",
   "execution_count": null,
   "metadata": {
    "slideshow": {
     "slide_type": "fragment"
    }
   },
   "outputs": [],
   "source": [
    "# for basemaps\n",
    "import contextily as ctx"
   ]
  },
  {
   "cell_type": "code",
   "execution_count": null,
   "metadata": {
    "slideshow": {
     "slide_type": "fragment"
    }
   },
   "outputs": [],
   "source": [
    "# reproject to web mercator\n",
    "neighborhoods = neighborhoods.to_crs(epsg=3857)"
   ]
  },
  {
   "cell_type": "code",
   "execution_count": null,
   "metadata": {
    "slideshow": {
     "slide_type": "slide"
    }
   },
   "outputs": [],
   "source": [
    "ax = neighborhoods.plot(figsize=(15,15),\n",
    "                        column='crime_count',\n",
    "                        legend=True,\n",
    "                        alpha=0.8,\n",
    "                        cmap='RdYlGn_r')\n",
    "\n",
    "ax.axis('off')\n",
    "ax.set_title('September 2020 Arrests by the LAPD',fontsize=22)\n",
    "ctx.add_basemap(ax,source=ctx.providers.CartoDB.Positron)"
   ]
  },
  {
   "cell_type": "markdown",
   "metadata": {
    "slideshow": {
     "slide_type": "slide"
    }
   },
   "source": [
    "## Make an interactive map\n",
    "\n",
    "To create an interactive version of the same map, let's use plotly express. Since we projected our data to web mercator, note that we have to project it back to WGS84 to work with plotly."
   ]
  },
  {
   "cell_type": "code",
   "execution_count": null,
   "metadata": {
    "slideshow": {
     "slide_type": "fragment"
    }
   },
   "outputs": [],
   "source": [
    "import plotly.express as px"
   ]
  },
  {
   "cell_type": "code",
   "execution_count": null,
   "metadata": {
    "slideshow": {
     "slide_type": "fragment"
    }
   },
   "outputs": [],
   "source": [
    "# reproject to web mercator\n",
    "neighborhoods = neighborhoods.to_crs(epsg=4326)"
   ]
  },
  {
   "cell_type": "code",
   "execution_count": null,
   "metadata": {
    "slideshow": {
     "slide_type": "fragment"
    }
   },
   "outputs": [],
   "source": [
    "neighborhoods.crs"
   ]
  },
  {
   "cell_type": "markdown",
   "metadata": {
    "slideshow": {
     "slide_type": "slide"
    }
   },
   "source": [
    "## Get the center lat/lon\n",
    "\n",
    "Plotly maps requires you to give it center coordinates. Let's calculate this based on the data.\n",
    "\n",
    "First, get the bounding box coordinates of the neighborhoods:"
   ]
  },
  {
   "cell_type": "code",
   "execution_count": null,
   "metadata": {
    "slideshow": {
     "slide_type": "fragment"
    }
   },
   "outputs": [],
   "source": [
    "minx, miny, maxx, maxy = neighborhoods.geometry.total_bounds"
   ]
  },
  {
   "cell_type": "code",
   "execution_count": null,
   "metadata": {
    "slideshow": {
     "slide_type": "fragment"
    }
   },
   "outputs": [],
   "source": [
    "center_lat=(maxy-miny)/2+miny\n",
    "center_lat"
   ]
  },
  {
   "cell_type": "code",
   "execution_count": null,
   "metadata": {
    "slideshow": {
     "slide_type": "fragment"
    }
   },
   "outputs": [],
   "source": [
    "center_lon=(maxx-minx)/2+minx\n",
    "center_lon"
   ]
  },
  {
   "cell_type": "code",
   "execution_count": null,
   "metadata": {
    "slideshow": {
     "slide_type": "slide"
    }
   },
   "outputs": [],
   "source": [
    "# map it!\n",
    "fig = px.choropleth_mapbox(neighborhoods, \n",
    "                           geojson=neighborhoods.geometry, \n",
    "                           locations=neighborhoods.index, \n",
    "                           color='crime_count',\n",
    "                           color_continuous_scale=\"rdylgn_r\",\n",
    "                           mapbox_style=\"carto-positron\",\n",
    "                           zoom=9, \n",
    "                           center = {\"lat\": center_lat, \"lon\": center_lon},\n",
    "                           hover_name=neighborhoods.name,\n",
    "                           opacity=0.5\n",
    "                          )\n",
    "fig.update_layout(margin={\"r\":0,\"t\":0,\"l\":0,\"b\":0})\n",
    "fig.show()"
   ]
  },
  {
   "cell_type": "markdown",
   "metadata": {},
   "source": [
    "## Saving as HTML"
   ]
  },
  {
   "cell_type": "code",
   "execution_count": null,
   "metadata": {
    "slideshow": {
     "slide_type": "fragment"
    }
   },
   "outputs": [],
   "source": [
    "# save it\n",
    "fig.write_html(\"lacrime.html\")"
   ]
  }
 ],
 "metadata": {
  "celltoolbar": "Slideshow",
  "kernelspec": {
   "display_name": "Python 3",
   "language": "python",
   "name": "python3"
  },
  "language_info": {
   "codemirror_mode": {
    "name": "ipython",
    "version": 3
   },
   "file_extension": ".py",
   "mimetype": "text/x-python",
   "name": "python",
   "nbconvert_exporter": "python",
   "pygments_lexer": "ipython3",
   "version": "3.8.5"
  },
  "toc": {
   "base_numbering": 1,
   "nav_menu": {},
   "number_sections": true,
   "sideBar": true,
   "skip_h1_title": false,
   "title_cell": "Table of Contents",
   "title_sidebar": "Contents",
   "toc_cell": true,
   "toc_position": {},
   "toc_section_display": true,
   "toc_window_display": false
  }
 },
 "nbformat": 4,
 "nbformat_minor": 4
}
